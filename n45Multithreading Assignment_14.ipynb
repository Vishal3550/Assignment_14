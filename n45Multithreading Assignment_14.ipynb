{
 "cells": [
  {
   "cell_type": "code",
   "execution_count": 8,
   "id": "38cd2a87-3661-4135-9790-b63a4fe3acc0",
   "metadata": {},
   "outputs": [],
   "source": [
    "# Q1. What is multithreading in python? Why is it used? Name the module used to handle threads in python\n",
    "\n",
    "# Answer:- * The threading module is a high-level implementation of multithreading used to deploy an application in Python. \n",
    "#          * To use multithreading, we need to import the threading module in Python Program. A start() method is used to \n",
    "#            initiate the activity of a thread.\n",
    "\n",
    "# There are two main modules of multithreading used to handle threads in Python.\n",
    "#  1.The thread module\n",
    "#  2.The threading module\n",
    "\n",
    "# * Thread modules:-\n",
    "# It is started with Python 3, designated as obsolete, and can only be accessed with _thread that supports backward compatibility.\n",
    "# Syntax:-\n",
    "#     thread.start_new_thread ( function_name, args[, kwargs] )  \n",
    "\n",
    "# * Threading Modules:-\n",
    "#            The threading module is a high-level implementation of multithreading used to deploy an application in Python. \n",
    "#            To use multithreading, we need to import the threading module in Python Program.\n",
    "\n",
    "# * Thread Class Methods:-\n",
    "\n",
    "#  Methods\t  Description\n",
    "#  start():-  A start() method is used to initiate the activity of a thread. \n",
    "#             And it calls only once for each thread so that the execution of the thread can begin.\n",
    "#  run():-\t A run() method is used to define a thread's activity and can be overridden by a class that extends the threads class.\n",
    "#  join():-  A join() method is used to block the execution of another code until the thread terminates.\n",
    "\n",
    "# steps to implement the threading module in Python Multithreading:-\n",
    "\n",
    "# 1. Import the threading module:-\n",
    "#         Create a new thread by importing the threading module, as shown.\n",
    "#    * Syntax:-\n",
    "#            import threading  \n",
    "#    * A threading module is made up of a Thread class, which is instantiated to create a Python thread.\n",
    "\n",
    "# 2. Declaration of the thread parameters:- \n",
    "#             It contains the target function, argument, and kwargs as the parameter in the Thread() class.\n",
    "#       * Target:- It defines the function name that is executed by the thread.\n",
    "#       * Args:- It defines the arguments that are passed to the target function name.\n",
    "\n",
    "# 3. Start a new thread:- \n",
    "#        To start a thread in Python multithreading, call the thread class's object. \n",
    "#        The start() method can be called once for each thread object; otherwise, it throws an exception error.\n",
    "\n",
    "#  * Syntax:-\n",
    "#       t1.start()  \n",
    "#       t2.start() \n",
    "\n",
    "# 4. Join method:- \n",
    "#       It is a join() method used in the thread class to halt the main thread's execution and waits till \n",
    "#       the complete execution of the thread object. When the thread object is completed, it starts the \n",
    "#       execution of the main thread in Python.\n",
    "\n",
    "# 5. Synchronizing Threads in Python:-\n",
    "#        It is a thread synchronization mechanism that ensures no two threads can simultaneously execute a particular \n",
    "#        segment inside the program to access the shared resources. The situation may be termed as critical sections. \n",
    "#        We use a race condition to avoid the critical section condition, in which two threads do not access resources \n",
    "#        at the same time."
   ]
  },
  {
   "cell_type": "code",
   "execution_count": null,
   "id": "f372e3dd-5e84-4c11-bece-4311f666ff82",
   "metadata": {},
   "outputs": [],
   "source": [
    "# Q2. Why threading module used? Write the use of the following functions\n",
    "#     1.activeCount()\n",
    "#     2.currentThread()\n",
    "#     3.enumerate()\n",
    "\n",
    "# Answer:-threading module is used for creating, controlling and managing threads in python.\n",
    "# use:-\n",
    "#    * activeCount() − Returns the number of thread objects that are active.\n",
    "#    * currentThread() − Returns the number of thread objects in the caller's thread control.\n",
    "#    * enumerate() − Returns a list of all thread objects that are currently active."
   ]
  },
  {
   "cell_type": "code",
   "execution_count": 9,
   "id": "0c7cef71-6533-4b94-b3af-6eaef343dfbc",
   "metadata": {},
   "outputs": [],
   "source": [
    "# Q3. Explain the following functions\n",
    "#    1.run()\n",
    "#    2.start()\n",
    "#    3.join()\n",
    "#    4.isAlive()\n",
    "\n",
    "# Answer:-\n",
    "#  * run() − The run() method is the entry point for a thread.\n",
    "#  * start() − The start() method starts a thread by calling the run method.\n",
    "#  * join([time]) − The join() waits for threads to terminate.\n",
    "#  * isAlive() − The isAlive() method checks whether a thread is still executing."
   ]
  },
  {
   "cell_type": "code",
   "execution_count": 12,
   "id": "64ad4069-31e4-4e92-ab4d-d7829128a1f8",
   "metadata": {},
   "outputs": [
    {
     "name": "stdout",
     "output_type": "stream",
     "text": [
      "Square: 100\n",
      "Cube: 1000\n",
      "Done!\n"
     ]
    }
   ],
   "source": [
    "# Q4. Write a python program to create two threads. Thread one must print the list of squares and thread two must \n",
    "#     print the list of cubes\n",
    "\n",
    "# Answer:-\n",
    "import threading\n",
    " \n",
    " \n",
    "def print_cube(num):\n",
    "    print(\"Cube: {}\" .format(num * num * num))\n",
    " \n",
    " \n",
    "def print_square(num):\n",
    "    print(\"Square: {}\" .format(num * num))\n",
    " \n",
    " \n",
    "if __name__ ==\"__main__\":\n",
    "    t1 = threading.Thread(target=print_square, args=(10,))\n",
    "    t2 = threading.Thread(target=print_cube, args=(10,))\n",
    " \n",
    "    t1.start()\n",
    "    t2.start()\n",
    " \n",
    "    t1.join()\n",
    "    t2.join()\n",
    " \n",
    "    print(\"Done!\")"
   ]
  },
  {
   "cell_type": "code",
   "execution_count": null,
   "id": "34f907c6-f9b4-4b88-83a8-2bcad0ef5111",
   "metadata": {},
   "outputs": [],
   "source": [
    "# Q5. State advantages and disadvantages of multithreading\n",
    "\n",
    "# Adv:-\n",
    "# Improved throughput. ...\n",
    "# Simultaneous and fully symmetric use of multiple processors for computation and I/O.\n",
    "# Superior application responsiveness. ...\n",
    "# Improved server responsiveness. ...\n",
    "# Minimized system resource usage. ...\n",
    "# Program structure simplification. ...\n",
    "# Better communication.\n",
    "\n",
    "#Disadv:-\n",
    "# Difficulty of writing code. Multithreaded and multicontexted applications are not easy to write. ...\n",
    "# Difficulty of debugging. ...\n",
    "# Difficulty of managing concurrency. ...\n",
    "# Difficulty of testing. ...\n",
    "# Difficulty of porting existing code."
   ]
  },
  {
   "cell_type": "code",
   "execution_count": null,
   "id": "524d80a9-d80d-4d54-8edf-df6da24ba4a1",
   "metadata": {},
   "outputs": [],
   "source": [
    "# Q6. Explain deadlocks and race conditions.\n",
    "\n",
    "# Answer:-A race condition occurs when two threads use the same variable at a given time. \n",
    "#         Deadlock exists when two threads seek one lock simultaneously.\n",
    "# race conditions:- When two processes are competing with each other causing data corruption. \n",
    "# deadlocks conditions:-When two processes are waiting for each other directly or indirectly, it is called deadlock."
   ]
  }
 ],
 "metadata": {
  "kernelspec": {
   "display_name": "Python 3 (ipykernel)",
   "language": "python",
   "name": "python3"
  },
  "language_info": {
   "codemirror_mode": {
    "name": "ipython",
    "version": 3
   },
   "file_extension": ".py",
   "mimetype": "text/x-python",
   "name": "python",
   "nbconvert_exporter": "python",
   "pygments_lexer": "ipython3",
   "version": "3.10.8"
  }
 },
 "nbformat": 4,
 "nbformat_minor": 5
}
